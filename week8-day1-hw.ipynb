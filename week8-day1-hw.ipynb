{
 "cells": [
  {
   "cell_type": "markdown",
   "metadata": {},
   "source": [
    "# Exercises"
   ]
  },
  {
   "cell_type": "markdown",
   "metadata": {},
   "source": [
    "### #1 - Calculate the BMI (body mass index) on the two lists below using NDArrays..."
   ]
  },
  {
   "cell_type": "code",
   "execution_count": 32,
   "metadata": {},
   "outputs": [
    {
     "name": "stdout",
     "output_type": "stream",
     "text": [
      "[16.86620458 17.87755102 18.82562984 19.71450617 20.54794521 21.32943755\n",
      " 22.06222222]\n"
     ]
    }
   ],
   "source": [
    "import numpy as np\n",
    "# formula = weight / (height**2) * 730\n",
    "height = [69, 70, 71, 72, 73, 74, 75]\n",
    "weight = [110, 120, 130, 140, 150, 160, 170]\n",
    "\n",
    "height = np.array(height)\n",
    "weight = np.array(weight)\n",
    "print(weight / (height**2) * 730)\n",
    "\n",
    "\n",
    "# OUTPUT: [16.86620458 17.87755102 18.82562984 19.71450617 20.54794521 21.32943755\n",
    "# 22.06222222]\n",
    "\n",
    "\n"
   ]
  },
  {
   "cell_type": "markdown",
   "metadata": {},
   "source": [
    "### #2 - Create a function that will take in two parameters and will create a random matrix based off of those parameters. Extra: Have additional parameters taken in that allow the user to choose the shape and data type of the matrix."
   ]
  },
  {
   "cell_type": "code",
   "execution_count": 49,
   "metadata": {
    "scrolled": true
   },
   "outputs": [
    {
     "name": "stdout",
     "output_type": "stream",
     "text": [
      "three-dimensional matrix with int64 type \n",
      "\n",
      "(array([[[24, 27, 27],\n",
      "        [13, 12, 22],\n",
      "        [20, 12, 23]],\n",
      "\n",
      "       [[24,  2, 11],\n",
      "        [ 8, 21,  4],\n",
      "        [ 1, 18,  5]],\n",
      "\n",
      "       [[ 4, 13, 18],\n",
      "        [21, 25, 21],\n",
      "        [20, 10,  2]]]), 4)\n"
     ]
    }
   ],
   "source": [
    "def makeMatrix(low,high,shape,data_type = float):\n",
    "    matrix = np.random.uniform(low, high, shape).astype(data_type), 4\n",
    "    return matrix\n",
    "\n",
    "print(\"three-dimensional matrix with int64 type \\n\")\n",
    "print(makeMatrix(1,28,(3,3,3),np.int64))\n",
    "#     pass"
   ]
  },
  {
   "cell_type": "markdown",
   "metadata": {},
   "source": [
    "### #3 - Extra: Open and load the data in the two text files that have the Boston Red Sox hitting data for the past seasons. Compare the difference in the two years by putting the data into an NDArray and running a differencial operation on it. The column to look for will be SLG.\n",
    "\n",
    "Your output should display which year (either 2017 or 2018) was a better year based on SLG"
   ]
  },
  {
   "cell_type": "code",
   "execution_count": 29,
   "metadata": {
    "scrolled": true
   },
   "outputs": [
    {
     "name": "stdout",
     "output_type": "stream",
     "text": [
      "[0.404 0.443 0.392 0.403 0.482 0.424 0.402 0.459 0.429 0.354 0.387 0.333\n",
      " 0.539 0.243 0.262 0.354 0.342 0.339 0.328 0.306 0.222 0.2   1.   ]\n",
      "[0.279 0.433 0.388 0.522 0.433 0.465 0.403 0.64  0.629 0.411 0.283 0.328\n",
      " 0.395 0.507 0.311 0.415 0.389 0.261 0.091 0.167]\n",
      "2017 was a better year by 1.296999879181385 points.\n",
      "['Christian Vazquez', 'Mitch Moreland', 'Dustin Pedroia', 'Xander Bogaerts', 'Rafael Devers', 'Andrew Benintendi', 'Jackie Bradley Jr.', 'Mookie Betts', 'Hanley Ramirez', 'Sandy Leon', 'Chris Young', 'Deven Marrero', 'Eduardo Nunez', 'Brock Holt', 'Josh Rutledge', 'Pablo Sandoval', 'Sam Travis', 'Tzu-Wei Lin', 'Marco Hernandez', 'Rajai Davis', 'Steve Selsky', 'Blake Swihart', \"Chase d'Arnaud\"]\n",
      "23\n",
      "20\n",
      "[b'Christian Vazquez' b'Mitch Moreland' b'Dustin Pedroia'\n",
      " b'Xander Bogaerts' b'Rafael Devers' b'Andrew Benintendi'\n",
      " b'Jackie Bradley Jr.' b'Mookie Betts' b'Hanley Ramirez' b'Sandy Leon'\n",
      " b'Chris Young' b'Deven Marrero' b'Eduardo Nunez' b'Brock Holt'\n",
      " b'Josh Rutledge' b'Pablo Sandoval' b'Sam Travis' b'Tzu-Wei Lin'\n",
      " b'Marco Hernandez' b'Rajai Davis' b'Steve Selsky' b'Blake Swihart'\n",
      " b\"Chase d'Arnaud\"]\n"
     ]
    }
   ],
   "source": [
    "# HAVEN\"T FINISHED THIS PROBLEM YET\n",
    "# I FOUND ONE SOLUTION THAT COMPARES THE SUMS OF BOTH TEAMS\n",
    "# BUT THIS DIDN'T WORK BECAUSE SLG DATA DOESN'T EXIST FOR ALL PLAYERS FOR BOTH YEARS\n",
    "# SO I'M WORKING ON COMPARING SLG DATA PER PLAYER IF SLG DATA EXISTS FOR BOTH YEARS\n",
    "\n",
    "# import csv\n",
    "# import numpy as np\n",
    "\n",
    "# FIELDS = ['Rk', 'Pos', 'Name', 'Age', 'G', 'PA', 'AB', 'R', 'H', '2B', '3B', 'HR', 'RBI', 'SB', 'CS', \n",
    "#           'BB', 'SO', 'BA', 'OBP', 'SLG', 'OPS', 'OPS+', 'TB', 'GDP', 'HBP', 'SH', 'SF', 'IBB']\n",
    "\n",
    "# DATATYPES = [('rk', 'i'), ('pos', '|S25'), ('name', '|S25'), ('age', 'i'), ('g', 'i'), ('pa', 'i'), ('ab', 'i'),\n",
    "#                 ('r', 'i'), ('h', 'i'), ('2b', 'i'), ('3b', 'i'), ('hr', 'i'), ('rbi', 'i'), ('sb', 'i'), ('cs', 'i'),\n",
    "#                 ('bb', 'i'), ('so', 'i'), ('ba', 'f'), ('obp', 'f'), ('slg', 'f'), ('ops', 'f'), ('opsp', 'i'),\n",
    "#                 ('tb', 'i'), ('gdp', 'i'), ('hbp', 'i'), ('sh', 'i'), ('sf', 'i'), ('ibb', 'i')]\n",
    "\n",
    "# def load_data(filename, d = ','):\n",
    "#     data = np.genfromtxt(filename, delimiter = d, skip_header = 1,\n",
    "#                         usecols = np.arange(0,24), invalid_raise = False,\n",
    "#                         names = FIELDS, dtype = DATATYPES)\n",
    "#     return data\n",
    "# bs2017 = load_data('../files/redsox_2017_hitting.txt')\n",
    "# bs2018 = load_data('../files/redsox_2018_hitting.txt')\n",
    "# print(bs2017['SLG'])\n",
    "# print(bs2018['SLG'])\n",
    "# bs2017SLG = sum(bs2017['SLG'])\n",
    "# bs2018SLG = sum(bs2018['SLG'])\n",
    "\n",
    "# if bs2017SLG > bs2018SLG:\n",
    "#     print(f'2017 was a better year by {bs2017SLG - bs2018SLG} points.')\n",
    "# else:\n",
    "#     print(f'2018 was a better year by {bs2018SLG - bs2017SLG} points.')\n",
    "\n",
    "# original_names = bs2018['Name']\n",
    "# names = []\n",
    "# for i in range(len(original_names)):\n",
    "#     names.append(original_names[i].decode('utf-8'))\n",
    "# print(names)\n",
    "\n",
    "# bs2017SLG = bs2017['SLG']\n",
    "# print(len(bs2017SLG))\n",
    "# bs2018SLG = bs2018['SLG']\n",
    "# print(len(bs2018SLG))\n",
    "# # for i in range(len(names)):\n",
    "# #     if bs2017SLG[i] > bs2018SLG[i]:\n",
    "# #         print(f'2017 was a better year for {names[i]} by {round(bs2017SLG[i] - bs2018SLG[i], 3)} points.')\n",
    "# #     else:\n",
    "# #         print(f'2018 was a better year for {names[i]} by {round(bs2018SLG[i] - bs2017SLG[i], 3)} points.')\n",
    "\n",
    "\n",
    "\n",
    "\n"
   ]
  },
  {
   "cell_type": "code",
   "execution_count": null,
   "metadata": {},
   "outputs": [],
   "source": [
    "\"\"\"\n",
    "Example Result - Not the actual result\n",
    "Boston 18 had more SLG in 2018\n",
    "[0.404 0.443 0.392 0.403 0.482 0.424 0.402 0.459 0.429 0.354 0.387 0.333\n",
    " 0.539 0.243 0.262 0.354 0.342 0.339 0.328 0.306 0.222 0.2   1.   ]\n",
    "\"\"\"\n",
    "\n",
    "FIELDS = ['Rk', 'Pos', 'Name', 'Age', 'G', 'PA', 'AB', 'R', 'H', '2B', '3B', 'HR', 'RBI', 'SB', 'CS', \n",
    "          'BB', 'SO', 'BA', 'OBP', 'SLG', 'OPS', 'OPS+', 'TB', 'GDP', 'HBP', 'SH', 'SF', 'IBB']\n",
    "\n",
    "DATATYPES = [('rk', 'i'), ('pos', '|S25'), ('name', '|S25'), ('age', 'i'), ('g', 'i'), ('pa', 'i'), ('ab', 'i'),\n",
    "                ('r', 'i'), ('h', 'i'), ('2b', 'i'), ('3b', 'i'), ('hr', 'i'), ('rbi', 'i'), ('sb', 'i'), ('cs', 'i'),\n",
    "                ('bb', 'i'), ('so', 'i'), ('ba', 'f'), ('obp', 'f'), ('slg', 'f'), ('ops', 'f'), ('opsp', 'i'),\n",
    "                ('tb', 'i'), ('gdp', 'i'), ('hbp', 'i'), ('sh', 'i'), ('sf', 'i'), ('ibb', 'i')]\n",
    "\n",
    "#Use this function to actually open the data inside of a NDArray\n",
    "\n"
   ]
  },
  {
   "cell_type": "code",
   "execution_count": null,
   "metadata": {},
   "outputs": [],
   "source": []
  }
 ],
 "metadata": {
  "kernelspec": {
   "display_name": "Python 3",
   "language": "python",
   "name": "python3"
  },
  "language_info": {
   "codemirror_mode": {
    "name": "ipython",
    "version": 3
   },
   "file_extension": ".py",
   "mimetype": "text/x-python",
   "name": "python",
   "nbconvert_exporter": "python",
   "pygments_lexer": "ipython3",
   "version": "3.8.5"
  }
 },
 "nbformat": 4,
 "nbformat_minor": 2
}
